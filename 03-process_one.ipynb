{
 "cells": [
  {
   "cell_type": "markdown",
   "metadata": {},
   "source": [
    "# Abstractive Summarization\n",
    "\n",
    "This notebook contains a sample for abstractive summarization using chain of density prompting.\n",
    "\n",
    "https://arxiv.org/abs/2309.04269\n",
    "\n",
    "Griffin Adams et al. introduce \"Chain of Density\" (CoD), an iterative GPT-4 prompting method generating increasingly entity-dense summaries at fixed length. CoD identifies 1-3 missing salient entities, incorporating them over five steps. Tested on 100 CNN/DailyMail articles, human evaluation (by the first four authors) reveals preference for summaries with entity density (entities/token) ~0.15, surpassing vanilla GPT-4 (0.122) and matching human-written (0.151) summaries. Entity density increases from 0.089 (step 1) to 0.167 (step 5), with step 3 (0.148) most preferred (expected step: 3.06). Low inter-annotator agreement (Fleiss' kappa: 0.112) indicates task subjectivity. Abstractiveness (extractive density), fusion (relative ROUGE gain), and lead bias measured; NLTK/Spacy used for tokenization/entity recognition. GPT-4 Likert-scale assessments show informativeness peaks at step 4, while Quality/Coherence decline after steps 2/1. Qualitative analysis reveals coherence/informativeness trade-off, with factual correctness challenging at high densities. CoD outperforms previous entity-based summarization approaches. Study limitations: news-only focus, evaluation subjectivity. 500 annotated/5,000 unannotated CoD summaries open-sourced for further research, enabling density distillation into open-source models.\n",
    "\n",
    "This particular summary was generation 3 of Claude Sonnet 3.5 summarizing the text of the PDF using `Summarize this PDF.` and `Identify 10 key missing points, and any errors in the summary, and output a new, improved summary. Increase the density of the resulting summary, but do not increase the length.`"
   ]
  },
  {
   "cell_type": "code",
   "execution_count": 1,
   "metadata": {},
   "outputs": [
    {
     "data": {
      "text/plain": [
       "True"
      ]
     },
     "execution_count": 1,
     "metadata": {},
     "output_type": "execute_result"
    }
   ],
   "source": [
    "from dotenv import load_dotenv\n",
    "import logging\n",
    "import pandas as pd\n",
    "\n",
    "# Set up logging\n",
    "logging.basicConfig(level=logging.INFO)\n",
    "logger = logging.getLogger(__name__)\n",
    "\n",
    "load_dotenv()"
   ]
  },
  {
   "cell_type": "markdown",
   "metadata": {},
   "source": [
    "Step 1: Pick your model provider"
   ]
  },
  {
   "cell_type": "code",
   "execution_count": 2,
   "metadata": {},
   "outputs": [],
   "source": [
    "from biagen.llm import CohereProvider, GroqProvider, AIStudioProvider\n",
    "\n",
    "llm = AIStudioProvider.from_env()"
   ]
  },
  {
   "cell_type": "markdown",
   "metadata": {},
   "source": [
    "Step 2: Load some data"
   ]
  },
  {
   "cell_type": "code",
   "execution_count": 7,
   "metadata": {},
   "outputs": [
    {
     "data": {
      "text/plain": [
       "id                                                         432\n",
       "area_id                       lone-jack-lake-conservation-area\n",
       "area_name                     Lone Jack Lake Conservation Area\n",
       "area_info     Lone Jack Lake Conservation Area Lone Jack La...\n",
       "Name: 432, dtype: object"
      ]
     },
     "execution_count": 7,
     "metadata": {},
     "output_type": "execute_result"
    }
   ],
   "source": [
    "# load some data\n",
    "\n",
    "area_df = pd.read_csv('assets/mo_conservation.tsv.gz', sep='\\t')\n",
    "\n",
    "data = area_df.loc[432]\n",
    "\n",
    "article = data['area_info']\n",
    "\n",
    "data"
   ]
  },
  {
   "cell_type": "code",
   "execution_count": 8,
   "metadata": {},
   "outputs": [],
   "source": [
    "summaries = []"
   ]
  },
  {
   "cell_type": "code",
   "execution_count": 9,
   "metadata": {},
   "outputs": [
    {
     "name": "stderr",
     "output_type": "stream",
     "text": [
      "INFO:root:<function AIStudioProvider.generate at 0x120f2a200>: Exec: 3.0078041553497314s\n"
     ]
    },
    {
     "name": "stdout",
     "output_type": "stream",
     "text": [
      "## Analysis of Lone Jack Lake Conservation Area Article\n",
      "\n",
      "**Purpose:** This article is a comprehensive guide to Lone Jack Lake Conservation Area, providing information for visitors, hunters, anglers, and anyone interested in the area's natural resources. \n",
      "\n",
      "**Main Topics:**\n",
      "\n",
      "* **Location and History:** The article details the conservation area's location in southeastern Jackson County, Missouri, and its historical significance as a site of the Battle of Lone Jack during the Civil War.\n",
      "* **Lake and Fishing:** The article describes the 35-acre lake, its fish populations (largemouth bass, bluegill, redear sunfish, and channel catfish), and the available fishing amenities, such as a concrete boat launch and fishing jetties.\n",
      "* **Wildlife and Habitat:** The article highlights the area's diverse wildlife, including waterfowl, deer, wild turkey, quail, rabbits, and squirrels, and explains the management practices used to maintain habitat for these species.\n",
      "* **Area Map and Brochure:**  The article provides links to downloadable resources, including an area map and a brochure, for visitors to access further information.\n",
      "* **Quick Facts:** The article provides essential information such as the total acreage of the conservation area, the hours of operation, and directions to the site.\n",
      "* **Regulations:** The article summarizes the rules and regulations governing activities on the conservation area, including those related to hunting, fishing, camping, vehicles, pets, and more.\n",
      "* **Special Use Permits:** The article explains the process for obtaining special use permits for activities such as trapping, field trials, and large group camping.\n",
      "* **Things to Do:** The article lists the various activities available at Lone Jack Lake Conservation Area, including bird watching, waterfowl hunting, fishing, hunting deer, and other wildlife-related activities.\n",
      "* **Media Gallery:** The article includes a media gallery with images of notable wildlife species and the lake, encouraging visitors to learn more about the area's natural beauty.\n"
     ]
    },
    {
     "data": {
      "text/plain": [
       "297"
      ]
     },
     "execution_count": 9,
     "metadata": {},
     "output_type": "execute_result"
    }
   ],
   "source": [
    "prompt_a = f\"\"\"Analyze the purpose and main topics of this article. Provide a detailed and accurate analysis spanning all covered topics.\n",
    "\n",
    "{article}\n",
    "\n",
    "## Analysis (the most significant topics, with one sentence commentary)\n",
    "\"\"\"\n",
    "\n",
    "analysis = llm.generate_one(prompt_a, max_tokens=1024, temperature=0.7, stop_sequences=None)\n",
    "\n",
    "print(analysis)\n",
    "len(analysis.split())"
   ]
  },
  {
   "cell_type": "code",
   "execution_count": 10,
   "metadata": {},
   "outputs": [
    {
     "name": "stderr",
     "output_type": "stream",
     "text": [
      "INFO:root:<function AIStudioProvider.generate at 0x120f2a200>: Exec: 2.3711349964141846s\n"
     ]
    },
    {
     "name": "stdout",
     "output_type": "stream",
     "text": [
      "Lone Jack Lake Conservation Area, situated in southeastern Jackson County, Missouri, offers a unique blend of natural beauty and historical significance. Established in 1989, the 295-acre area encompasses a 35-acre lake stocked with popular fish species like largemouth bass, bluegill, redear sunfish, and channel catfish, making it a prime destination for anglers. Visitors can enjoy a concrete boat launch and two fishing jetties, one of which is accessible for individuals with disabilities. \n",
      "\n",
      "Beyond the lake, the conservation area boasts diverse habitats, including woodlands, grasslands, croplands, and old fields, which provide year-round sustenance and shelter for a variety of wildlife. The area is home to a thriving population of waterfowl, deer, wild turkey, quail, rabbits, and squirrels, attracting nature enthusiasts and birdwatchers alike. The Missouri Department of Conservation actively manages the area's habitats through controlled burning, haying, and native plant plantings to ensure the continued well-being of its diverse inhabitants.\n",
      "\n",
      "Lone Jack Lake Conservation Area holds historical significance as the site of the Battle of Lone Jack, a pivotal event in the Civil War. Visitors can learn about this important chapter in American history while enjoying the area's natural beauty. The conservation area offers a variety of activities, including fishing, hunting, bird watching, and nature observation, making it a popular destination for outdoor enthusiasts. \n",
      "\n",
      "To ensure a safe and enjoyable experience for all visitors, the conservation area is subject to specific rules and regulations. These regulations cover activities such as hunting, fishing, camping, vehicle use, pets, and the use of firearms. Visitors are encouraged to familiarize themselves with these regulations, which are outlined in the article and can also be found on the Missouri Department of Conservation website. \n",
      "\n",
      "Lone Jack Lake Conservation Area provides a unique combination of recreational opportunities, historical significance, and natural beauty. Whether you are an avid angler, a dedicated hunter, or simply seeking a peaceful retreat in nature, this conservation area offers something for everyone.\n"
     ]
    },
    {
     "data": {
      "text/plain": [
       "318"
      ]
     },
     "execution_count": 10,
     "metadata": {},
     "output_type": "execute_result"
    }
   ],
   "source": [
    "prompt_s = f\"\"\"Given the article and the following analysis, provide a detailed, erudite, succinct, and accurate summary.\n",
    "\n",
    "## Article\n",
    "\n",
    "```article\n",
    "{article}\n",
    "```\n",
    "\n",
    "## Analysis\n",
    "\n",
    "{analysis}\n",
    "\n",
    "## Summary (5 paragraphs)\n",
    "\n",
    "\"\"\"\n",
    "\n",
    "summary= llm.generate_one(prompt_s, max_tokens=1024, temperature=0.5, stop_sequences=None)\n",
    "\n",
    "summaries.append(summary)\n",
    "\n",
    "print(summary)\n",
    "len(summary.split())"
   ]
  },
  {
   "cell_type": "markdown",
   "metadata": {},
   "source": [
    "### Improvement Loop"
   ]
  },
  {
   "cell_type": "code",
   "execution_count": 19,
   "metadata": {},
   "outputs": [],
   "source": [
    "# Get our last summary\n",
    "\n",
    "summary = summaries[-1]"
   ]
  },
  {
   "cell_type": "code",
   "execution_count": 20,
   "metadata": {},
   "outputs": [
    {
     "name": "stderr",
     "output_type": "stream",
     "text": [
      "INFO:root:<function AIStudioProvider.generate at 0x120f2a200>: Exec: 3.3386199474334717s\n"
     ]
    },
    {
     "name": "stdout",
     "output_type": "stream",
     "text": [
      "Here are 12 pieces of novel information not contained in the summary, based on the provided article:\n",
      "\n",
      "1. **Historical Significance:** The summary mentions the Battle of Lone Jack, but it doesn't elaborate on its significance. The article states it was a \"pivotal event\" in Civil War history.  The summary could expand on this, perhaps mentioning the battle's strategic importance or the impact it had on the local area.\n",
      "\n",
      "2. **Accessibility:**  The summary mentions that one jetty is accessible for individuals with disabilities, but it doesn't mention if the concrete boat launch is also accessible.  The article states that it is, so the summary could be updated to reflect this.\n",
      "\n",
      "3. **Cave Pond:** The summary mentions Cave Pond, but it doesn't provide details about its size or location. The article states it's a one-acre pond by the entrance.  \n",
      "\n",
      "4. **Wildlife Management:** The summary mentions habitat management through controlled burning and haying, but it doesn't mention the use of native plant plantings.  The article states that these plantings are used to enhance habitat diversity.\n",
      "\n",
      "5. **Wildlife Species:** The summary mentions some notable wildlife species, but it doesn't mention that the area is home to a \"good population\" of deer, wild turkey, quail, rabbits, and squirrels.\n",
      "\n",
      "6. **Specific Bird Species:** The summary mentions birdwatching, but it doesn't provide specific examples of birds found in the area. The article mentions the Pileated Woodpecker, Eastern Cottontail, and Barred Owl.\n",
      "\n",
      "7. **Area Regulations:** The summary briefly mentions some regulations, but it doesn't mention that the area is governed by Chapter 11 of the Wildlife Code, which outlines further restrictions on activities.\n",
      "\n",
      "8. **Prohibited Activities:** The summary only mentions that target shooting is prohibited, but it doesn't list other prohibited activities. The article provides a detailed list, such as digging, guiding for pay, placing cameras, and using fireworks.\n",
      "\n",
      "9. **Special Use Permits:** The summary mentions that trapping requires a special use permit, but it doesn't mention that other activities may also require permits, such as camping with large groups or using horses.\n",
      "\n",
      "10. **Vehicle Restrictions:** The summary doesn't mention that vehicle use is restricted to graveled and paved roads and established parking areas.\n",
      "\n",
      "11. **Camping:** The summary mentions that camping is limited to 14 consecutive days in any 30-day period, but it doesn't mention that the total camping days are limited to 30 days within one calendar year.\n",
      "\n",
      "12. **Hunting Regulations:**  The summary briefly mentions hunting regulations but doesn't provide specific details about the types of permits required or the restrictions on hunting deer or turkey. The article provides information about antlered deer limits, antler point restrictions, and the use of dogs and bait.\n"
     ]
    },
    {
     "data": {
      "text/plain": [
       "437"
      ]
     },
     "execution_count": 20,
     "metadata": {},
     "output_type": "execute_result"
    }
   ],
   "source": [
    "# Check for missing information in the summary\n",
    "\n",
    "prompt_m = f\"\"\"Given the article and the current summary, identify missing information or ways to improve the summary.\n",
    "\n",
    "## Article\n",
    "\n",
    "```article\n",
    "{article}\n",
    "```\n",
    "\n",
    "## Current Summary\n",
    "\n",
    "{summary}\n",
    "\n",
    "## Missing Information (provide 12 entries of novel information not contained in the summary)\n",
    "\"\"\"\n",
    "\n",
    "missing = llm.generate_one(prompt_m, max_tokens=1024, temperature=0.7, stop_sequences=None)\n",
    "\n",
    "print(missing)\n",
    "len(missing.split())"
   ]
  },
  {
   "cell_type": "code",
   "execution_count": 21,
   "metadata": {},
   "outputs": [
    {
     "name": "stderr",
     "output_type": "stream",
     "text": [
      "INFO:root:<function AIStudioProvider.generate at 0x120f2a200>: Exec: 3.26546311378479s\n"
     ]
    },
    {
     "name": "stdout",
     "output_type": "stream",
     "text": [
      "Here's a breakdown of the most important and unimportant information based on your analysis:\n",
      "\n",
      "**Most Important Information**\n",
      "\n",
      "* **Location and Access:** The summary accurately conveys the location of the conservation area and its accessibility via Brown Road.  This is crucial for visitors to find the area.\n",
      "* **Key Features:**  The summary highlights the main attractions, including the 35-acre lake, the fishing jetties (with accessibility information), and Cave Pond. This helps visitors understand what the area offers.\n",
      "* **Wildlife:** The summary mentions the diversity of wildlife present, including waterfowl, deer, turkey, quail, rabbits, and squirrels. This is a major draw for nature enthusiasts.\n",
      "* **Hours of Operation and General Regulations:** The summary provides the daily operating hours and mentions that certain activities are allowed 24/7. It also briefly mentions regulations about target shooting and trapping. This helps visitors understand the general rules.\n",
      "* **Hunting Seasons and Regulations:** The summary mentions the different hunting seasons and notes that deer hunting has specific restrictions. This is important for hunters planning to visit.\n",
      "* **Contact Information:** The summary provides the website and phone number for the conservation area, allowing visitors to get more information.\n",
      "\n",
      "**Less Important Information**\n",
      "\n",
      "* **Historical Significance:** While the Battle of Lone Jack is mentioned, the summary doesn't delve into its historical significance.  This is less important than the core features and activities of the area.\n",
      "* **Detailed Wildlife Management:** The summary mentions habitat management but doesn't go into the specifics of controlled burning, haying, and native plant plantings. This level of detail is less crucial for the average visitor.\n",
      "* **Specific Bird Species:**  The summary mentions birdwatching but doesn't list specific bird species. This is less important than the overall wildlife diversity.\n",
      "* **Detailed Area Regulations:**  The summary provides a brief overview of regulations but doesn't list all the prohibited activities or the need for special use permits. This level of detail can be overwhelming and is readily available on the website.\n",
      "* **Vehicle Restrictions:** The summary doesn't mention the restrictions on vehicle use. This is less important than the overall access information.\n",
      "* **Specific Camping Information:** The summary mentions camping limitations but doesn't provide specific details about campsites or amenities. This can be found on the website.\n",
      "\n",
      "**Key Takeaway**\n",
      "\n",
      "The summary should focus on the most important information for visitors: location, key features, wildlife, hours of operation, general regulations, hunting seasons, and contact information.  Less important details, such as historical significance or detailed regulations, can be provided in a more concise way or directed to the website for further exploration.\n"
     ]
    },
    {
     "data": {
      "text/plain": [
       "421"
      ]
     },
     "execution_count": 21,
     "metadata": {},
     "output_type": "execute_result"
    }
   ],
   "source": [
    "prompt_r = f\"\"\"Using the current summary and the identified missing information, identify what information is important and unimportant.\n",
    "\n",
    "## Article\n",
    "\n",
    "```article\n",
    "{article}\n",
    "```\n",
    "\n",
    "## Current Summary\n",
    "\n",
    "{summary}\n",
    "\n",
    "## Missing Information\n",
    "\n",
    "{missing}\n",
    "\n",
    "## Most Important Information\n",
    "\"\"\"\n",
    "\n",
    "important = llm.generate_one(prompt_r, max_tokens=2048, temperature=0.5, stop_sequences=None)\n",
    "\n",
    "print(important)\n",
    "len(important.split())"
   ]
  },
  {
   "cell_type": "code",
   "execution_count": 22,
   "metadata": {},
   "outputs": [
    {
     "name": "stderr",
     "output_type": "stream",
     "text": [
      "INFO:root:<function AIStudioProvider.generate at 0x120f2a200>: Exec: 3.1773760318756104s\n"
     ]
    },
    {
     "name": "stdout",
     "output_type": "stream",
     "text": [
      "## Improved Summary\n",
      "\n",
      "Lone Jack Lake Conservation Area, nestled in southeastern Jackson County, Missouri, offers a unique blend of natural beauty, historical significance, and recreational opportunities.  Just one mile northwest of Lone Jack on Brown Road, the area is easily accessible for outdoor enthusiasts.  The conservation area encompasses 295 acres, including a 35-acre lake stocked with largemouth bass, bluegill, redear sunfish, and channel catfish.  This makes it a popular destination for anglers, who can enjoy a concrete boat launch and two fishing jetties, both of which are accessible for individuals with disabilities.  The area also features a one-acre pond called Cave Pond, located by the entrance and stocked with similar fish species, offering another fishing option.\n",
      "\n",
      "Beyond the lake, Lone Jack Lake Conservation Area boasts diverse habitats, including woodlands, grasslands, croplands, and old fields, providing year-round sustenance and shelter for a variety of wildlife.  The area is home to a thriving population of waterfowl, deer, wild turkey, quail, rabbits, and squirrels, attracting nature enthusiasts and birdwatchers alike.  Notable species include the Pileated Woodpecker, Eastern Cottontail, and Barred Owl.  To maximize your wildlife viewing opportunities, consider visiting during the early morning or late evening hours, when animals are most active.\n",
      "\n",
      "The area is steeped in Civil War history, as the Battle of Lone Jack was fought within the city limits of Lone Jack on August 16, 1862. This pivotal battle played a significant role in the Missouri campaign, impacting the local area and contributing to the overall course of the war.  Visitors can learn about this important event and explore the area's historical significance.\n",
      "\n",
      "The Missouri Department of Conservation actively manages the area's habitats through controlled burning, haying, and native plant plantings to ensure the continued well-being of its diverse inhabitants.  These efforts contribute to the area's thriving wildlife populations, making it a haven for nature lovers.  \n",
      "\n",
      "Lone Jack Lake Conservation Area is open for public use from 4:00 a.m. to 10:00 p.m. daily.  However, certain activities, such as hunting, fishing, trapping, dog training, camping, launching, and landing boats, are permitted 24 hours a day on designated areas.  To ensure a safe and enjoyable experience for all visitors, the conservation area is subject to specific rules and regulations outlined in Chapter 11 of the Wildlife Code.  For example, target shooting is prohibited, trapping requires a special use permit, and camping is limited to 14 consecutive days in any 30-day period with a total of 30 days allowed per calendar year.  Camping facilities include designated campsites, but amenities and reservation information can be found on the Missouri Department of Conservation website.  \n",
      "\n",
      "Hunters should be aware of the specific dates for various hunting seasons, including archery and firearms seasons for deer and turkey.  Deer hunting is subject to specific restrictions, including the number of antlered deer allowed, antler point restrictions, and the use of dogs and bait.  For detailed information on these regulations, please refer to the current Fall Deer and Turkey Hunting Regulations and Information Pamphlet available on the Missouri Department of Conservation website.  For additional information about Lone Jack Lake Conservation Area, you can visit the Missouri Department of Conservation website or contact the conservation area directly at (816) 622-0900.  Lone Jack Lake Conservation Area offers a unique combination of recreational opportunities, historical significance, and natural beauty, making it a popular destination for outdoor enthusiasts of all interests.\n"
     ]
    },
    {
     "data": {
      "text/plain": [
       "557"
      ]
     },
     "execution_count": 22,
     "metadata": {},
     "output_type": "execute_result"
    }
   ],
   "source": [
    "prompt_r = f\"\"\"Using the current summary and the identified missing information, create an improved summary of the article.\n",
    "\n",
    "## Article\n",
    "\n",
    "```article\n",
    "{article}\n",
    "```\n",
    "\n",
    "## Current Summary\n",
    "\n",
    "{summary}\n",
    "\n",
    "## Missing Information\n",
    "\n",
    "{missing}\n",
    "\n",
    "## Ideas To Consider\n",
    "\n",
    "{important}\n",
    "\n",
    "## Improved Summary (reorganized, expanded, and including new information; 6 paragraphs)\n",
    "\"\"\"\n",
    "\n",
    "resummarized = llm.generate_one(prompt_r, max_tokens=2048, temperature=0.5, stop_sequences=None)\n",
    "\n",
    "summaries.append(resummarized)\n",
    "\n",
    "print(resummarized)\n",
    "len(resummarized.split())"
   ]
  }
 ],
 "metadata": {
  "kernelspec": {
   "display_name": ".venv",
   "language": "python",
   "name": "python3"
  },
  "language_info": {
   "codemirror_mode": {
    "name": "ipython",
    "version": 3
   },
   "file_extension": ".py",
   "mimetype": "text/x-python",
   "name": "python",
   "nbconvert_exporter": "python",
   "pygments_lexer": "ipython3",
   "version": "3.12.3"
  }
 },
 "nbformat": 4,
 "nbformat_minor": 2
}
