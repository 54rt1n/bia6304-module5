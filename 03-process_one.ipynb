{
 "cells": [
  {
   "cell_type": "markdown",
   "metadata": {},
   "source": [
    "# Abstractive Summarization\n",
    "\n",
    "This notebook contains a sample for abstractive summarization using chain of density prompting."
   ]
  },
  {
   "cell_type": "code",
   "execution_count": 2,
   "metadata": {},
   "outputs": [
    {
     "data": {
      "text/plain": [
       "True"
      ]
     },
     "execution_count": 2,
     "metadata": {},
     "output_type": "execute_result"
    }
   ],
   "source": [
    "from dotenv import load_dotenv\n",
    "import logging\n",
    "import pandas as pd\n",
    "\n",
    "# Set up logging\n",
    "logging.basicConfig(level=logging.INFO)\n",
    "logger = logging.getLogger(__name__)\n",
    "\n",
    "load_dotenv()"
   ]
  },
  {
   "cell_type": "code",
   "execution_count": 3,
   "metadata": {},
   "outputs": [],
   "source": [
    "from biagen.llm import CohereProvider, GroqProvider\n",
    "\n",
    "llm = GroqProvider.from_env()"
   ]
  },
  {
   "cell_type": "code",
   "execution_count": 4,
   "metadata": {},
   "outputs": [
    {
     "data": {
      "text/plain": [
       "id                                                           4\n",
       "area_id                           jaycee-park-lake-cole-county\n",
       "area_name                       Jaycee Park Lake (Cole County)\n",
       "area_info     Jaycee Park Lake (Cole County) Jaycee Park La...\n",
       "Name: 4, dtype: object"
      ]
     },
     "execution_count": 4,
     "metadata": {},
     "output_type": "execute_result"
    }
   ],
   "source": [
    "# load some data\n",
    "\n",
    "area_df = pd.read_csv('mo_conservation.tsv.gz', sep='\\t')\n",
    "\n",
    "data = area_df.loc[4]\n",
    "\n",
    "article = data['area_info']\n",
    "\n",
    "data"
   ]
  },
  {
   "cell_type": "code",
   "execution_count": 5,
   "metadata": {},
   "outputs": [],
   "source": [
    "summaries = []"
   ]
  },
  {
   "cell_type": "code",
   "execution_count": 6,
   "metadata": {},
   "outputs": [
    {
     "name": "stderr",
     "output_type": "stream",
     "text": [
      "INFO:httpx:HTTP Request: POST https://api.groq.com/openai/v1/chat/completions \"HTTP/1.1 200 OK\"\n",
      "INFO:root:<function GroqProvider.generate at 0x10d800fe0>: Exec: 0.7788562774658203s\n"
     ]
    },
    {
     "name": "stdout",
     "output_type": "stream",
     "text": [
      "1. Jaycee Park Lake (Cole County) location and contact information: The article provides the address, contact details, and a map for Jaycee Park Lake in Cole County.\n",
      "2. Area regulations: The area is not owned by the Missouri Department of Conservation, and the regulations are based on a cooperative agreement between the owner and the department.\n",
      "3. Prohibited activities: Boats are prohibited on the lake, and fishing may be prohibited or subject to special regulations.\n",
      "4. Fishing rules and allowed species: If fishing is allowed, the specific rules and allowed species can be found in Chapter 12 of the Wildlife Code. The article mentions sunfish, catfish, and black bass as potential species.\n",
      "5. Things to do when visiting: Fishing is one of the main activities, but the availability and regulations may vary.\n"
     ]
    },
    {
     "data": {
      "text/plain": [
       "132"
      ]
     },
     "execution_count": 6,
     "metadata": {},
     "output_type": "execute_result"
    }
   ],
   "source": [
    "prompt_a = f\"\"\"Analyze the purpose and main topics of this article. Provide a detailed and accurate analysis spanning all covered topics.\n",
    "\n",
    "{article}\n",
    "\n",
    "## Analysis (the most significant topics, with one sentence commentary)\n",
    "\"\"\"\n",
    "\n",
    "analysis = llm.generate_one(prompt_a, max_tokens=1024, temperature=0.7, stop_sequences=None)\n",
    "\n",
    "print(analysis)\n",
    "len(analysis.split())"
   ]
  },
  {
   "cell_type": "code",
   "execution_count": 7,
   "metadata": {},
   "outputs": [
    {
     "name": "stderr",
     "output_type": "stream",
     "text": [
      "INFO:httpx:HTTP Request: POST https://api.groq.com/openai/v1/chat/completions \"HTTP/1.1 200 OK\"\n",
      "INFO:root:<function GroqProvider.generate at 0x10d800fe0>: Exec: 1.0303590297698975s\n"
     ]
    },
    {
     "name": "stdout",
     "output_type": "stream",
     "text": [
      "Jaycee Park Lake, located in Cole County, offers a beautiful natural setting for visitors looking to enjoy the outdoors. The lake is easily accessible, with directions provided in the article, and interested individuals can contact the Cole County Public Works Director for more information or to report any issues. However, it is important to note that the lake is not owned by the Missouri Department of Conservation, and the area regulations are based on a cooperative agreement between the owner and the department.\n",
      "\n",
      "The regulations for Jaycee Park Lake are outlined in the article and provide specific information on allowed and prohibited activities. One notable prohibition is the use of boats on the lake, which may limit some visitors' plans. Fishing regulations are more complex, as fishing may be prohibited or subject to special regulations depending on the specific area managed under the cooperative agreement. The article directs individuals to Chapter 12 of the Wildlife Code to determine the fishing regulations for this area, and potential species mentioned include sunfish, catfish, and black bass.\n",
      "\n",
      "Visitors to Jaycee Park Lake should familiarize themselves with the specific regulations for the area before planning their visit. The lake offers a variety of natural attractions, and the analysis identifies fishing as a potential activity, depending on the regulations. However, the availability and specific rules for fishing may vary, so visitors are encouraged to consult the Wildlife Code or contact the area owner for more information.\n",
      "\n",
      "In summary, Jaycee Park Lake is a scenic natural area in Cole County that offers potential fishing opportunities, depending on the regulations. The lake is not owned by the Missouri Department of Conservation, and the area regulations are based on a cooperative agreement between the owner and the department. Boats are prohibited on the lake, and fishing regulations may vary, so visitors should consult the Wildlife Code or contact the area owner for more information before planning their visit. Despite these restrictions, Jaycee Park Lake remains a popular destination for those looking to enjoy the outdoors and connect with nature.\n"
     ]
    },
    {
     "data": {
      "text/plain": [
       "341"
      ]
     },
     "execution_count": 7,
     "metadata": {},
     "output_type": "execute_result"
    }
   ],
   "source": [
    "prompt_s = f\"\"\"Given the article and the following analysis, provide a detailed, erudite, succinct, and accurate summary.\n",
    "\n",
    "## Article\n",
    "\n",
    "```article\n",
    "{article}\n",
    "```\n",
    "\n",
    "## Analysis\n",
    "\n",
    "{analysis}\n",
    "\n",
    "## Summary (5 paragraphs)\n",
    "\n",
    "\"\"\"\n",
    "\n",
    "summary= llm.generate_one(prompt_s, max_tokens=1024, temperature=0.5, stop_sequences=None)\n",
    "\n",
    "summaries.append(summary)\n",
    "\n",
    "print(summary)\n",
    "len(summary.split())"
   ]
  },
  {
   "cell_type": "markdown",
   "metadata": {},
   "source": [
    "### Improvement Loop"
   ]
  },
  {
   "cell_type": "code",
   "execution_count": 8,
   "metadata": {},
   "outputs": [],
   "source": [
    "# Get our last summary\n",
    "\n",
    "summary = summaries[-1]"
   ]
  },
  {
   "cell_type": "code",
   "execution_count": 9,
   "metadata": {},
   "outputs": [
    {
     "name": "stderr",
     "output_type": "stream",
     "text": [
      "INFO:httpx:HTTP Request: POST https://api.groq.com/openai/v1/chat/completions \"HTTP/1.1 200 OK\"\n",
      "INFO:root:<function GroqProvider.generate at 0x10d800fe0>: Exec: 0.8801159858703613s\n"
     ]
    },
    {
     "name": "stdout",
     "output_type": "stream",
     "text": [
      "1. Jaycee Park Lake's total acreage is 7.3 acres.\n",
      "2. The lake is open from 4:00 AM to 10:00 PM every day.\n",
      "3. To reach the lake, take South Country Club Drive/Fairgrounds Road south for approximately 1.50 miles, then turn onto County Park Road.\n",
      "4. The lake is managed under a cooperative agreement with the Missouri Department of Conservation, and the regulations for this area can be found in Chapter 12 of the Wildlife Code.\n",
      "5. There are no specific fishing regulations mentioned in the article, but fishing may be allowed with special provisions.\n",
      "6. The contact number for the Cole County Public Works Director is 573-636-3614.\n",
      "7. There is an area map available for download, which can help visitors navigate the lake and its surrounding areas.\n",
      "8. The lake is located in Jefferson City, which offers other attractions and activities that visitors can enjoy during their stay.\n",
      "9. The Wildlife Code provides information on the types of fish allowed for fishing and any size or quantity restrictions.\n",
      "10. Visitors should be aware of any permits or fees required for fishing or other activities in the area.\n",
      "11. The lake may have other recreational activities available, such as hiking or picnicking, but the article does not provide details.\n",
      "12. It is essential to follow all the regulations and posted signs in the area to maintain a safe and enjoyable environment for all visitors.\n"
     ]
    },
    {
     "data": {
      "text/plain": [
       "233"
      ]
     },
     "execution_count": 9,
     "metadata": {},
     "output_type": "execute_result"
    }
   ],
   "source": [
    "# Check for missing information in the summary\n",
    "\n",
    "prompt_m = f\"\"\"Given the article and the current summary, identify missing information or ways to improve the summary.\n",
    "\n",
    "## Article\n",
    "\n",
    "```article\n",
    "{article}\n",
    "```\n",
    "\n",
    "## Current Summary\n",
    "\n",
    "{summary}\n",
    "\n",
    "## Missing Information (provide 12 entries of novel information not contained in the summary)\n",
    "\"\"\"\n",
    "\n",
    "missing = llm.generate_one(prompt_m, max_tokens=1024, temperature=0.7, stop_sequences=None)\n",
    "\n",
    "print(missing)\n",
    "len(missing.split())"
   ]
  },
  {
   "cell_type": "code",
   "execution_count": 10,
   "metadata": {},
   "outputs": [
    {
     "name": "stderr",
     "output_type": "stream",
     "text": [
      "INFO:httpx:HTTP Request: POST https://api.groq.com/openai/v1/chat/completions \"HTTP/1.1 200 OK\"\n",
      "INFO:root:<function GroqProvider.generate at 0x10d800fe0>: Exec: 0.834165096282959s\n"
     ]
    },
    {
     "name": "stdout",
     "output_type": "stream",
     "text": [
      "The most important information for the article about Jaycee Park Lake includes:\n",
      "\n",
      "1. Jaycee Park Lake's total acreage is 7.3 acres.\n",
      "2. The lake's location is in Cole County, and its specific address is not provided, but it is accessible via South Country Club Drive/Fairgrounds Road and County Park Road.\n",
      "3. The lake is open from 4:00 AM to 10:00 PM every day.\n",
      "4. The lake is managed under a cooperative agreement with the Missouri Department of Conservation, and the regulations for this area can be found in Chapter 12 of the Wildlife Code.\n",
      "5. Boats are prohibited on the lake.\n",
      "6. Fishing regulations may vary for the lake, so visitors should consult the Wildlife Code for more information.\n",
      "7. The contact number for the Cole County Public Works Director is 573-636-3614.\n",
      "8. An area map is available for download.\n",
      "9. Visitors should follow all the regulations and posted signs in the area to maintain a safe and enjoyable environment for all.\n",
      "\n",
      "This information provides context for the lake's location, accessibility, and management, as well as important rules and regulations for visitors to follow. It is essential for individuals to have this information before planning a visit to Jaycee Park Lake.\n"
     ]
    },
    {
     "data": {
      "text/plain": [
       "201"
      ]
     },
     "execution_count": 10,
     "metadata": {},
     "output_type": "execute_result"
    }
   ],
   "source": [
    "prompt_r = f\"\"\"Using the current summary and the identified missing information, identify what information is important and unimportant.\n",
    "\n",
    "## Article\n",
    "\n",
    "```article\n",
    "{article}\n",
    "```\n",
    "\n",
    "## Current Summary\n",
    "\n",
    "{summary}\n",
    "\n",
    "## Missing Information\n",
    "\n",
    "{missing}\n",
    "\n",
    "## Most Important Information\n",
    "\"\"\"\n",
    "\n",
    "important = llm.generate_one(prompt_r, max_tokens=2048, temperature=0.5, stop_sequences=None)\n",
    "\n",
    "print(important)\n",
    "len(important.split())"
   ]
  },
  {
   "cell_type": "code",
   "execution_count": 11,
   "metadata": {},
   "outputs": [
    {
     "name": "stderr",
     "output_type": "stream",
     "text": [
      "INFO:httpx:HTTP Request: POST https://api.groq.com/openai/v1/chat/completions \"HTTP/1.1 200 OK\"\n",
      "INFO:root:<function GroqProvider.generate at 0x10d800fe0>: Exec: 1.2683651447296143s\n"
     ]
    },
    {
     "name": "stdout",
     "output_type": "stream",
     "text": [
      "Jaycee Park Lake, located in Cole County, is a beautiful natural area that spans 7.3 acres and offers a variety of recreational activities, including fishing. The lake is easily accessible, with directions provided in the article, and interested individuals can contact the Cole County Public Works Director for more information or to report any issues. However, it is important to note that the lake is not owned by the Missouri Department of Conservation, and the area regulations are based on a cooperative agreement between the owner and the department.\n",
      "\n",
      "To reach Jaycee Park Lake, visitors can take South Country Club Drive/Fairgrounds Road south for approximately 1.50 miles, then turn onto County Park Road. The lake is open from 4:00 AM to 10:00 PM every day, providing ample opportunity for visitors to enjoy the outdoors. An area map is available for download, which can help visitors navigate the lake and its surrounding areas.\n",
      "\n",
      "Visitors to Jaycee Park Lake should familiarize themselves with the specific regulations for the area before planning their visit. One notable prohibition is the use of boats on the lake, which may limit some visitors' plans. Fishing regulations may vary for the lake, so it is essential to consult the Missouri Code of State Regulations in Chapter 12 of the Wildlife Code for more information on fishing and any size or quantity restrictions. The types of fish allowed for fishing in the lake include sunfish, catfish, and black bass.\n",
      "\n",
      "Jefferson City, where the lake is located, offers other attractions and activities that visitors can enjoy during their stay. The Wildlife Code provides information on the types of fish allowed for fishing and any permits or fees required for fishing or other activities in the area. Visitors should be aware of any permits or fees required for fishing or other activities in the area.\n",
      "\n",
      "In summary, Jaycee Park Lake is a scenic natural area in Cole County that offers potential fishing opportunities, depending on the regulations. The lake is not owned by the Missouri Department of Conservation, and the area regulations are based on a cooperative agreement between the owner and the department. Boats are prohibited on the lake, and fishing regulations may vary, so visitors should consult the Wildlife Code for more information before planning their visit. Despite these restrictions, Jaycee Park Lake remains a popular destination for those looking to enjoy the outdoors and connect with nature. Visitors are encouraged to follow all the regulations and posted signs in the area to maintain a safe and enjoyable environment for all.\n"
     ]
    },
    {
     "data": {
      "text/plain": [
       "423"
      ]
     },
     "execution_count": 11,
     "metadata": {},
     "output_type": "execute_result"
    }
   ],
   "source": [
    "prompt_r = f\"\"\"Using the current summary and the identified missing information, create an improved summary of the article.\n",
    "\n",
    "## Article\n",
    "\n",
    "```article\n",
    "{article}\n",
    "```\n",
    "\n",
    "## Current Summary\n",
    "\n",
    "{summary}\n",
    "\n",
    "## Missing Information\n",
    "\n",
    "{missing}\n",
    "\n",
    "## Ideas To Consider\n",
    "\n",
    "{important}\n",
    "\n",
    "## Improved Summary (reorganized, expanded, and including new information; 6 paragraphs)\n",
    "\"\"\"\n",
    "\n",
    "resummarized = llm.generate_one(prompt_r, max_tokens=2048, temperature=0.5, stop_sequences=None)\n",
    "\n",
    "summaries.append(resummarized)\n",
    "\n",
    "print(resummarized)\n",
    "len(resummarized.split())"
   ]
  }
 ],
 "metadata": {
  "kernelspec": {
   "display_name": ".venv",
   "language": "python",
   "name": "python3"
  },
  "language_info": {
   "codemirror_mode": {
    "name": "ipython",
    "version": 3
   },
   "file_extension": ".py",
   "mimetype": "text/x-python",
   "name": "python",
   "nbconvert_exporter": "python",
   "pygments_lexer": "ipython3",
   "version": "3.12.3"
  }
 },
 "nbformat": 4,
 "nbformat_minor": 2
}
